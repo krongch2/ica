{
 "cells": [
  {
   "cell_type": "code",
   "execution_count": 21,
   "id": "10d47d1e",
   "metadata": {},
   "outputs": [],
   "source": [
    "####### this notebook is for developing the higher-order moment based ICA algorithms\n",
    "import numpy as np\n",
    "import matplotlib.pyplot as plt\n",
    "from scipy import stats\n",
    "\n",
    "%matplotlib inline"
   ]
  },
  {
   "cell_type": "code",
   "execution_count": 4,
   "id": "f3fb2606",
   "metadata": {},
   "outputs": [],
   "source": [
    "###### data pre-process functions\n",
    "\n",
    "###### assume that the data are in R^(dxm) where d is the different components, m is the number of samples\n",
    "def Center(x):\n",
    "    \"\"\"in put x in R^(d x m) and return the mean centered data by subtracting the mean of each row from the rows,\n",
    "    i.e. x_i: - E_j[x_ij] for each i = 1,2...,d \n",
    "    \"\"\"\n",
    "    x_center = x- np.mean(x, axis=1, keepdims=True)\n",
    "    return x_center\n",
    "\n",
    "def Cov(x):\n",
    "    \"\"\"return the covariance matrix of data x (centered) in R^(d x m) in the component space, i.e. x.x^t/(m-1)\n",
    "    \"\"\"\n",
    "    d, m = x.shape\n",
    "    x_cov = np.matmul(x, x.T)/(m-1)\n",
    "    return x_cov\n",
    "\n",
    "def SVD_PCA(x):\n",
    "    \"\"\"since x (centered) is in R^(d x m), we actually perform SVD on x^t which is in R^(m x d),\n",
    "    that is, x^t = U.Sigma.V^t, where U is mxd, sigma is dxd diagonal and V^t is dxd,\n",
    "    the rows of V^t (or equivalently, columns of V) are orthogonal eigenvectors of x.x^t,\n",
    "    thus x^t.V are the left singular vectors (proportional to columns in U),\n",
    "    this function returns U, Sigma, V^t of x^t,\n",
    "    and project the x^t into PC space by x^t.V, this is mxd, and taking the transpose for the output in dxm\n",
    "    \"\"\"\n",
    "    U, Sigma, Vt = np.linalg.svd(x.T, full_matrices=False)\n",
    "    PC = np.matmul(x.T, Vt.T).T\n",
    "    return U,Sigma,Vt,PC\n",
    "\n",
    "def Standardize(x):\n",
    "    \"\"\"this function takes the x in R^(d x m) and center it in rows,\n",
    "    and divide each row by the standard deviation, i.e. for each row i, (x-E[x])/std[x] \n",
    "    \"\"\"\n",
    "    d, m = x.shape\n",
    "    x_center = Center(x)\n",
    "    x_std = np.std(x_center, axis=1, ddof=1, keepdims=True)\n",
    "    x_stand = np.divide(x_center, x_std)\n",
    "    return x_stand\n",
    "    \n",
    "\n"
   ]
  },
  {
   "cell_type": "code",
   "execution_count": 11,
   "id": "2ba7b86f",
   "metadata": {},
   "outputs": [
    {
     "name": "stderr",
     "output_type": "stream",
     "text": [
      "/home/kannanlu/miniconda3/envs/alcfai-ml/lib/python3.7/site-packages/ipykernel_launcher.py:14: UserWarning: You have mixed positional and keyword arguments, some input may be discarded.\n",
      "  \n",
      "/home/kannanlu/miniconda3/envs/alcfai-ml/lib/python3.7/site-packages/ipykernel_launcher.py:20: UserWarning: You have mixed positional and keyword arguments, some input may be discarded.\n",
      "/home/kannanlu/miniconda3/envs/alcfai-ml/lib/python3.7/site-packages/ipykernel_launcher.py:26: UserWarning: You have mixed positional and keyword arguments, some input may be discarded.\n"
     ]
    },
    {
     "data": {
      "image/png": "[encoded data removed]",
      "text/plain": [
       "<Figure size 360x1080 with 3 Axes>"
      ]
     },
     "metadata": {
      "needs_background": "light"
     },
     "output_type": "display_data"
    }
   ],
   "source": [
    "###### data pre-process \n",
    "\n",
    "# observed data x, d x m, d components, m samples\n",
    "x = np.array([[1, 1, 2, 0, 5, 4, 5, 3], [3, 2, 3, 3, 4, 5, 5, 4]]) \n",
    "\n",
    "######## whitening, in PC space\n",
    "x_center = Center(x)\n",
    "U, Sigma, Vt, PC = SVD_PCA(x_center)\n",
    "PC_standard = Standardize(PC)\n",
    "\n",
    "########\n",
    "fig, ax=plt.subplots(3)\n",
    "p1,=ax[0].plot(x_center[0,:],x_center[1,:],'ro',markersize=5)\n",
    "ax[0].legend(p1,labels=['centered data'])\n",
    "ax[0].set_xlabel('x0')  \n",
    "ax[0].set_ylabel('x1')\n",
    "ax[0].set_xlim(-3,3)\n",
    "ax[0].set_ylim(-3,3)\n",
    "p1,=ax[1].plot(PC[0,:], PC[1,:],'bo',markersize=5)\n",
    "ax[1].legend(p1,labels=['data in PC'])\n",
    "ax[1].set_xlabel('PC0')\n",
    "ax[1].set_ylabel('PC1')\n",
    "ax[1].set_xlim(-3,3)\n",
    "ax[1].set_ylim(-3,3)\n",
    "p1,=ax[2].plot(PC_standard[0,:], PC_standard[1,:],'ko',markersize=5)\n",
    "ax[2].legend(p1,labels=['data in PC after standardization'])\n",
    "ax[2].set_xlabel('PC0') \n",
    "ax[2].set_ylabel('PC1')\n",
    "ax[2].set_xlim(-3,3)\n",
    "ax[2].set_ylim(-3,3)\n",
    "fig.set_size_inches(w=5,h=15)\n",
    "plt.show()"
   ]
  },
  {
   "cell_type": "code",
   "execution_count": 32,
   "id": "80dcfee6",
   "metadata": {},
   "outputs": [
    {
     "name": "stdout",
     "output_type": "stream",
     "text": [
      "[[-0.84520529 -0.84520529 -0.32507896 -1.36533162  1.23530004  0.71517371\n",
      "   1.23530004  0.19504737]\n",
      " [-0.58925565 -1.53206469 -0.58925565 -0.58925565  0.35355339  1.29636243\n",
      "   1.29636243  0.35355339]]\n",
      "[0.70710678 0.70710678]\n",
      "[-1.01431706 -1.68098372 -0.6465322  -1.38210191  1.12348903  1.42237084\n",
      "  1.7901557   0.38791932]\n",
      "[0.99235929 0.96926199]\n"
     ]
    },
    {
     "ename": "AxisError",
     "evalue": "axis 1 is out of bounds for array of dimension 1",
     "output_type": "error",
     "traceback": [
      "\u001b[0;31m---------------------------------------------------------------------------\u001b[0m",
      "\u001b[0;31mAxisError\u001b[0m                                 Traceback (most recent call last)",
      "\u001b[0;32m/tmp/ipykernel_21495/54108457.py\u001b[0m in \u001b[0;36m<module>\u001b[0;34m\u001b[0m\n\u001b[1;32m     19\u001b[0m \u001b[0;34m\u001b[0m\u001b[0m\n\u001b[1;32m     20\u001b[0m \u001b[0mprint\u001b[0m\u001b[0;34m(\u001b[0m\u001b[0mnp\u001b[0m\u001b[0;34m.\u001b[0m\u001b[0mmatmul\u001b[0m\u001b[0;34m(\u001b[0m\u001b[0mx_st\u001b[0m\u001b[0;34m,\u001b[0m \u001b[0mtmp\u001b[0m\u001b[0;34m**\u001b[0m\u001b[0;36m2\u001b[0m\u001b[0;34m)\u001b[0m\u001b[0;34m,\u001b[0m\u001b[0;34m)\u001b[0m\u001b[0;34m\u001b[0m\u001b[0;34m\u001b[0m\u001b[0m\n\u001b[0;32m---> 21\u001b[0;31m \u001b[0mE_1\u001b[0m \u001b[0;34m=\u001b[0m \u001b[0mnp\u001b[0m\u001b[0;34m.\u001b[0m\u001b[0mmean\u001b[0m\u001b[0;34m(\u001b[0m\u001b[0mnp\u001b[0m\u001b[0;34m.\u001b[0m\u001b[0mmatmul\u001b[0m\u001b[0;34m(\u001b[0m\u001b[0mx_st\u001b[0m\u001b[0;34m,\u001b[0m \u001b[0mtmp\u001b[0m\u001b[0;34m**\u001b[0m\u001b[0;36m2\u001b[0m\u001b[0;34m)\u001b[0m\u001b[0;34m,\u001b[0m \u001b[0maxis\u001b[0m\u001b[0;34m=\u001b[0m\u001b[0;36m1\u001b[0m\u001b[0;34m)\u001b[0m\u001b[0;34m\u001b[0m\u001b[0;34m\u001b[0m\u001b[0m\n\u001b[0m\u001b[1;32m     22\u001b[0m \u001b[0mprint\u001b[0m\u001b[0;34m(\u001b[0m\u001b[0mE_1\u001b[0m\u001b[0;34m)\u001b[0m\u001b[0;34m\u001b[0m\u001b[0;34m\u001b[0m\u001b[0m\n\u001b[1;32m     23\u001b[0m \u001b[0margument\u001b[0m \u001b[0;34m=\u001b[0m \u001b[0;34m(\u001b[0m\u001b[0mnp\u001b[0m\u001b[0;34m.\u001b[0m\u001b[0mmatmul\u001b[0m\u001b[0;34m(\u001b[0m\u001b[0mut\u001b[0m\u001b[0;34m,\u001b[0m \u001b[0mx_st\u001b[0m\u001b[0;34m)\u001b[0m\u001b[0;34m)\u001b[0m\u001b[0;34m**\u001b[0m\u001b[0;36m2\u001b[0m\u001b[0;34m\u001b[0m\u001b[0;34m\u001b[0m\u001b[0m\n",
      "\u001b[0;32m<__array_function__ internals>\u001b[0m in \u001b[0;36mmean\u001b[0;34m(*args, **kwargs)\u001b[0m\n",
      "\u001b[0;32m~/miniconda3/envs/alcfai-ml/lib/python3.7/site-packages/numpy/core/fromnumeric.py\u001b[0m in \u001b[0;36mmean\u001b[0;34m(a, axis, dtype, out, keepdims, where)\u001b[0m\n\u001b[1;32m   3439\u001b[0m \u001b[0;34m\u001b[0m\u001b[0m\n\u001b[1;32m   3440\u001b[0m     return _methods._mean(a, axis=axis, dtype=dtype,\n\u001b[0;32m-> 3441\u001b[0;31m                           out=out, **kwargs)\n\u001b[0m\u001b[1;32m   3442\u001b[0m \u001b[0;34m\u001b[0m\u001b[0m\n\u001b[1;32m   3443\u001b[0m \u001b[0;34m\u001b[0m\u001b[0m\n",
      "\u001b[0;32m~/miniconda3/envs/alcfai-ml/lib/python3.7/site-packages/numpy/core/_methods.py\u001b[0m in \u001b[0;36m_mean\u001b[0;34m(a, axis, dtype, out, keepdims, where)\u001b[0m\n\u001b[1;32m    165\u001b[0m     \u001b[0mis_float16_result\u001b[0m \u001b[0;34m=\u001b[0m \u001b[0;32mFalse\u001b[0m\u001b[0;34m\u001b[0m\u001b[0;34m\u001b[0m\u001b[0m\n\u001b[1;32m    166\u001b[0m \u001b[0;34m\u001b[0m\u001b[0m\n\u001b[0;32m--> 167\u001b[0;31m     \u001b[0mrcount\u001b[0m \u001b[0;34m=\u001b[0m \u001b[0m_count_reduce_items\u001b[0m\u001b[0;34m(\u001b[0m\u001b[0marr\u001b[0m\u001b[0;34m,\u001b[0m \u001b[0maxis\u001b[0m\u001b[0;34m,\u001b[0m \u001b[0mkeepdims\u001b[0m\u001b[0;34m=\u001b[0m\u001b[0mkeepdims\u001b[0m\u001b[0;34m,\u001b[0m \u001b[0mwhere\u001b[0m\u001b[0;34m=\u001b[0m\u001b[0mwhere\u001b[0m\u001b[0;34m)\u001b[0m\u001b[0;34m\u001b[0m\u001b[0;34m\u001b[0m\u001b[0m\n\u001b[0m\u001b[1;32m    168\u001b[0m     \u001b[0;32mif\u001b[0m \u001b[0mrcount\u001b[0m \u001b[0;34m==\u001b[0m \u001b[0;36m0\u001b[0m \u001b[0;32mif\u001b[0m \u001b[0mwhere\u001b[0m \u001b[0;32mis\u001b[0m \u001b[0;32mTrue\u001b[0m \u001b[0;32melse\u001b[0m \u001b[0mumr_any\u001b[0m\u001b[0;34m(\u001b[0m\u001b[0mrcount\u001b[0m \u001b[0;34m==\u001b[0m \u001b[0;36m0\u001b[0m\u001b[0;34m,\u001b[0m \u001b[0maxis\u001b[0m\u001b[0;34m=\u001b[0m\u001b[0;32mNone\u001b[0m\u001b[0;34m)\u001b[0m\u001b[0;34m:\u001b[0m\u001b[0;34m\u001b[0m\u001b[0;34m\u001b[0m\u001b[0m\n\u001b[1;32m    169\u001b[0m         \u001b[0mwarnings\u001b[0m\u001b[0;34m.\u001b[0m\u001b[0mwarn\u001b[0m\u001b[0;34m(\u001b[0m\u001b[0;34m\"Mean of empty slice.\"\u001b[0m\u001b[0;34m,\u001b[0m \u001b[0mRuntimeWarning\u001b[0m\u001b[0;34m,\u001b[0m \u001b[0mstacklevel\u001b[0m\u001b[0;34m=\u001b[0m\u001b[0;36m2\u001b[0m\u001b[0;34m)\u001b[0m\u001b[0;34m\u001b[0m\u001b[0;34m\u001b[0m\u001b[0m\n",
      "\u001b[0;32m~/miniconda3/envs/alcfai-ml/lib/python3.7/site-packages/numpy/core/_methods.py\u001b[0m in \u001b[0;36m_count_reduce_items\u001b[0;34m(arr, axis, keepdims, where)\u001b[0m\n\u001b[1;32m     74\u001b[0m         \u001b[0mitems\u001b[0m \u001b[0;34m=\u001b[0m \u001b[0mnt\u001b[0m\u001b[0;34m.\u001b[0m\u001b[0mintp\u001b[0m\u001b[0;34m(\u001b[0m\u001b[0;36m1\u001b[0m\u001b[0;34m)\u001b[0m\u001b[0;34m\u001b[0m\u001b[0;34m\u001b[0m\u001b[0m\n\u001b[1;32m     75\u001b[0m         \u001b[0;32mfor\u001b[0m \u001b[0max\u001b[0m \u001b[0;32min\u001b[0m \u001b[0maxis\u001b[0m\u001b[0;34m:\u001b[0m\u001b[0;34m\u001b[0m\u001b[0;34m\u001b[0m\u001b[0m\n\u001b[0;32m---> 76\u001b[0;31m             \u001b[0mitems\u001b[0m \u001b[0;34m*=\u001b[0m \u001b[0marr\u001b[0m\u001b[0;34m.\u001b[0m\u001b[0mshape\u001b[0m\u001b[0;34m[\u001b[0m\u001b[0mmu\u001b[0m\u001b[0;34m.\u001b[0m\u001b[0mnormalize_axis_index\u001b[0m\u001b[0;34m(\u001b[0m\u001b[0max\u001b[0m\u001b[0;34m,\u001b[0m \u001b[0marr\u001b[0m\u001b[0;34m.\u001b[0m\u001b[0mndim\u001b[0m\u001b[0;34m)\u001b[0m\u001b[0;34m]\u001b[0m\u001b[0;34m\u001b[0m\u001b[0;34m\u001b[0m\u001b[0m\n\u001b[0m\u001b[1;32m     77\u001b[0m     \u001b[0;32melse\u001b[0m\u001b[0;34m:\u001b[0m\u001b[0;34m\u001b[0m\u001b[0;34m\u001b[0m\u001b[0m\n\u001b[1;32m     78\u001b[0m         \u001b[0;31m# TODO: Optimize case when `where` is broadcast along a non-reduction\u001b[0m\u001b[0;34m\u001b[0m\u001b[0;34m\u001b[0m\u001b[0;34m\u001b[0m\u001b[0m\n",
      "\u001b[0;31mAxisError\u001b[0m: axis 1 is out of bounds for array of dimension 1"
     ]
    }
   ],
   "source": [
    "###### projection pursuit\n",
    "\n",
    "x_st = Standardize(x)\n",
    "print(x_st)\n",
    "\n",
    "alpha = 0.8\n",
    "\n",
    "## d x d projection vector u\n",
    "ut = np.array([1, 1])\n",
    "ut = ut/np.linalg.norm(ut)\n",
    "\n",
    "tmp = np.matmul(ut, x_st)\n",
    "print(ut)\n",
    "print(tmp)\n",
    "gamma = stats.skew(np.matmul(ut, x_st))\n",
    "kappa = stats.kurtosis(np.matmul(ut, x_st), fisher=True)\n",
    "G = alpha*gamma**2+(1-alpha)*kappa**2\n",
    "\n",
    "\n",
    "print(np.matmul(x_st, tmp**2),)\n",
    "E_1 = np.mean(np.matmul(x_st, tmp**2), axis=1)\n",
    "print(E_1)\n",
    "argument = (np.matmul(ut, x_st))**2\n",
    "print(argument)\n"
   ]
  }
 ],
 "metadata": {
  "kernelspec": {
   "display_name": "Python 3 (ipykernel)",
   "language": "python",
   "name": "python3"
  },
  "language_info": {
   "codemirror_mode": {
    "name": "ipython",
    "version": 3
   },
   "file_extension": ".py",
   "mimetype": "text/x-python",
   "name": "python",
   "nbconvert_exporter": "python",
   "pygments_lexer": "ipython3",
   "version": "3.7.11"
  }
 },
 "nbformat": 4,
 "nbformat_minor": 5
}
